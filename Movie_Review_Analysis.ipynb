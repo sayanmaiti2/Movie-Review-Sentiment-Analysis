{
  "nbformat": 4,
  "nbformat_minor": 5,
  "metadata": {
    "colab": {
      "name": "Movie Review Analysis.ipynb",
      "provenance": [],
      "collapsed_sections": []
    },
    "kernelspec": {
      "display_name": "Python 3",
      "language": "python",
      "name": "python3"
    },
    "language_info": {
      "codemirror_mode": {
        "name": "ipython",
        "version": 3
      },
      "file_extension": ".py",
      "mimetype": "text/x-python",
      "name": "python",
      "nbconvert_exporter": "python",
      "pygments_lexer": "ipython3",
      "version": "3.7.10"
    },
    "accelerator": "TPU"
  },
  "cells": [
    {
      "cell_type": "code",
      "metadata": {
        "id": "stunning-injury"
      },
      "source": [
        "import numpy as np\n",
        "import matplotlib.pyplot as plt\n",
        "import pandas as pd"
      ],
      "id": "stunning-injury",
      "execution_count": null,
      "outputs": []
    },
    {
      "cell_type": "code",
      "metadata": {
        "colab": {
          "base_uri": "https://localhost:8080/"
        },
        "id": "b2ediDpEqYXe",
        "outputId": "e884575c-4fa9-4ba9-c4dc-10766f28e321"
      },
      "source": [
        "from google.colab import drive\n",
        "drive.mount('/content/drive')"
      ],
      "id": "b2ediDpEqYXe",
      "execution_count": null,
      "outputs": [
        {
          "output_type": "stream",
          "text": [
            "Mounted at /content/drive\n"
          ],
          "name": "stdout"
        }
      ]
    },
    {
      "cell_type": "code",
      "metadata": {
        "id": "remarkable-colon"
      },
      "source": [
        "# Importing the dataset\n",
        "\n",
        "dataset = pd.read_csv(\"/content/drive/MyDrive/Colab Notebooks/imdb_data.csv\")"
      ],
      "id": "remarkable-colon",
      "execution_count": null,
      "outputs": []
    },
    {
      "cell_type": "code",
      "metadata": {
        "colab": {
          "base_uri": "https://localhost:8080/"
        },
        "id": "reserved-poetry",
        "outputId": "cd5227ae-5b5c-44ba-ac9e-057b23d3281d"
      },
      "source": [
        "# Cleaning the Texts\n",
        "import re\n",
        "import nltk\n",
        "nltk.download('stopwords')\n",
        "from nltk.corpus import stopwords\n",
        "from nltk.stem.porter import PorterStemmer\n",
        "corpus = []\n",
        "\n",
        "\n",
        "for i in range(0, 50000):\n",
        "  review = re.sub('[^a-zA-Z]', ' ', dataset['review'][i])\n",
        "  review = review.lower()\n",
        "  review = review.split()\n",
        "  ps = PorterStemmer()\n",
        "  all_stopwords = stopwords.words('english')\n",
        "  all_stopwords.remove('not')\n",
        "  review = [ps.stem(word) for word in review if not word in set(all_stopwords)]\n",
        "  review = ' '.join(review)\n",
        "  corpus.append(review)"
      ],
      "id": "reserved-poetry",
      "execution_count": null,
      "outputs": [
        {
          "output_type": "stream",
          "text": [
            "[nltk_data] Downloading package stopwords to /root/nltk_data...\n",
            "[nltk_data]   Unzipping corpora/stopwords.zip.\n"
          ],
          "name": "stdout"
        }
      ]
    },
    {
      "cell_type": "code",
      "metadata": {
        "id": "ordered-excitement"
      },
      "source": [
        "# Creating the bag of words model\n",
        "from sklearn.feature_extraction.text import CountVectorizer\n",
        "cv = CountVectorizer(max_features=5000)\n",
        "obj = cv.fit(corpus)\n",
        "X = cv.transform(corpus).toarray()\n",
        "y = dataset.iloc[:, -1].values"
      ],
      "id": "ordered-excitement",
      "execution_count": null,
      "outputs": []
    },
    {
      "cell_type": "code",
      "metadata": {
        "id": "sunset-slovenia"
      },
      "source": [
        "# from sklearn.feature_extraction.text import TfidfVectorizer\n",
        "# tfidf = TfidfVectorizer(min_df=5, max_df=0.25, ngram_range=(1,2))\n",
        "# tfidf.fit(corpus)\n",
        "# X = tfidf.transform(corpus)\n",
        "# y = dataset.iloc[:, -1].values"
      ],
      "id": "sunset-slovenia",
      "execution_count": null,
      "outputs": []
    },
    {
      "cell_type": "code",
      "metadata": {
        "id": "minus-hudson"
      },
      "source": [
        "# Splitting the dataset into the Training set and Test set\n",
        "\n",
        "from sklearn.model_selection import train_test_split\n",
        "X_train, X_test, y_train, y_test = train_test_split(X, y, test_size = 0.20, random_state = 0)"
      ],
      "id": "minus-hudson",
      "execution_count": null,
      "outputs": []
    },
    {
      "cell_type": "code",
      "metadata": {
        "id": "entertaining-payroll",
        "colab": {
          "base_uri": "https://localhost:8080/"
        },
        "outputId": "b0dd147a-1afd-4462-8c4d-8e7828802713"
      },
      "source": [
        "from sklearn.naive_bayes import GaussianNB\n",
        "nb_classifier = GaussianNB()\n",
        "nb_classifier.fit(X_train, y_train)"
      ],
      "id": "entertaining-payroll",
      "execution_count": null,
      "outputs": [
        {
          "output_type": "execute_result",
          "data": {
            "text/plain": [
              "GaussianNB(priors=None, var_smoothing=1e-09)"
            ]
          },
          "metadata": {
            "tags": []
          },
          "execution_count": 8
        }
      ]
    },
    {
      "cell_type": "code",
      "metadata": {
        "id": "identical-identifier",
        "colab": {
          "base_uri": "https://localhost:8080/"
        },
        "outputId": "90e1d100-85e6-4275-c5c0-aef8895d19c4"
      },
      "source": [
        "y_pred = nb_classifier.predict(X_test)\n",
        "print(np.concatenate((y_pred.reshape(len(y_pred),1), y_test.reshape(len(y_test),1)),1))"
      ],
      "id": "identical-identifier",
      "execution_count": null,
      "outputs": [
        {
          "output_type": "stream",
          "text": [
            "[['positive' 'positive']\n",
            " ['negative' 'negative']\n",
            " ['positive' 'negative']\n",
            " ...\n",
            " ['positive' 'positive']\n",
            " ['negative' 'positive']\n",
            " ['negative' 'negative']]\n"
          ],
          "name": "stdout"
        }
      ]
    },
    {
      "cell_type": "code",
      "metadata": {
        "id": "nominated-riding"
      },
      "source": [
        "# from sklearn.metrics import confusion_matrix, accuracy_score\n",
        "# cm = confusion_matrix(y_test, y_pred)\n",
        "# print(cm)\n",
        "# accuracy_score(y_test, y_pred)"
      ],
      "id": "nominated-riding",
      "execution_count": null,
      "outputs": []
    },
    {
      "cell_type": "code",
      "metadata": {
        "colab": {
          "base_uri": "https://localhost:8080/"
        },
        "id": "vHhiZR5xGbD9",
        "outputId": "7d6d2323-73c4-4bb1-c7a5-3385566ec1a5"
      },
      "source": [
        "# Evaluating the model\n",
        "from sklearn.metrics import accuracy_score\n",
        "\n",
        "accuracy_score_nb = accuracy_score(nb_classifier.predict(X_test), y_test)\n",
        "print(\"NB Accuracy: \"+str('{:04.2f}'.format(accuracy_score_nb*100))+\" %\")\n",
        "\n",
        "from sklearn.metrics import classification_report, confusion_matrix\n",
        "\n",
        "print(\"Classification Report: \\n\", classification_report(y_test, nb_classifier.predict(X_test),target_names=['Negative','Positive']))\n",
        "print(\"Confusion Matrix: \\n\", confusion_matrix(y_test, nb_classifier.predict(X_test)))"
      ],
      "id": "vHhiZR5xGbD9",
      "execution_count": null,
      "outputs": [
        {
          "output_type": "stream",
          "text": [
            "NB Accuracy: 71.64 %\n",
            "Classification Report: \n",
            "               precision    recall  f1-score   support\n",
            "\n",
            "    Negative       0.67      0.86      0.75      5035\n",
            "    Positive       0.80      0.57      0.67      4965\n",
            "\n",
            "    accuracy                           0.72     10000\n",
            "   macro avg       0.74      0.72      0.71     10000\n",
            "weighted avg       0.73      0.72      0.71     10000\n",
            "\n",
            "Confusion Matrix: \n",
            " [[4324  711]\n",
            " [2125 2840]]\n"
          ],
          "name": "stdout"
        }
      ]
    },
    {
      "cell_type": "code",
      "metadata": {
        "colab": {
          "base_uri": "https://localhost:8080/",
          "height": 279
        },
        "id": "lMQBOA30FYTM",
        "outputId": "8ecaf868-6dd6-441d-c199-285e81f9f6f6"
      },
      "source": [
        "#Plotting Confusion Matrix\n",
        "import seaborn as sn\n",
        "confusion_matrix = pd.crosstab(y_test, nb_classifier.predict(X_test), rownames=['Actual'], colnames=['Predicted'])\n",
        "sn.heatmap(confusion_matrix,cmap=\"Blues\", annot=True, fmt='g')\n",
        "plt.show()"
      ],
      "id": "lMQBOA30FYTM",
      "execution_count": null,
      "outputs": [
        {
          "output_type": "display_data",
          "data": {
            "image/png": "[encoded data removed]",
            "text/plain": [
              "<Figure size 432x288 with 2 Axes>"
            ]
          },
          "metadata": {
            "tags": [],
            "needs_background": "light"
          }
        }
      ]
    },
    {
      "cell_type": "code",
      "metadata": {
        "colab": {
          "base_uri": "https://localhost:8080/"
        },
        "id": "YIhl1H4oFtM3",
        "outputId": "0697c679-fd4c-4821-a066-72f7e4370170"
      },
      "source": [
        "from sklearn.ensemble import RandomForestClassifier\n",
        "rf = RandomForestClassifier(n_estimators = 250)\n",
        "rf.fit(X_train, y_train)"
      ],
      "id": "YIhl1H4oFtM3",
      "execution_count": null,
      "outputs": [
        {
          "output_type": "execute_result",
          "data": {
            "text/plain": [
              "RandomForestClassifier(bootstrap=True, ccp_alpha=0.0, class_weight=None,\n",
              "                       criterion='gini', max_depth=None, max_features='auto',\n",
              "                       max_leaf_nodes=None, max_samples=None,\n",
              "                       min_impurity_decrease=0.0, min_impurity_split=None,\n",
              "                       min_samples_leaf=1, min_samples_split=2,\n",
              "                       min_weight_fraction_leaf=0.0, n_estimators=250,\n",
              "                       n_jobs=None, oob_score=False, random_state=None,\n",
              "                       verbose=0, warm_start=False)"
            ]
          },
          "metadata": {
            "tags": []
          },
          "execution_count": 13
        }
      ]
    },
    {
      "cell_type": "code",
      "metadata": {
        "colab": {
          "base_uri": "https://localhost:8080/"
        },
        "id": "xWfrf5HaL9w4",
        "outputId": "e12dc46c-9144-4f78-c18a-21da958bae1f"
      },
      "source": [
        "# Evaluating the model\n",
        "from sklearn.metrics import accuracy_score\n",
        "\n",
        "accuracy_score_rf = accuracy_score(rf.predict(X_test), y_test)\n",
        "print(\"RF Accuracy: \"+str('{:04.2f}'.format(accuracy_score_rf*100))+\" %\")\n",
        "\n",
        "from sklearn.metrics import classification_report, confusion_matrix\n",
        "\n",
        "print(\"Classification Report: \\n\", classification_report(y_test, rf.predict(X_test),target_names=['Negative','Positive']))\n",
        "print(\"Confusion Matrix: \\n\", confusion_matrix(y_test, rf.predict(X_test)))"
      ],
      "id": "xWfrf5HaL9w4",
      "execution_count": null,
      "outputs": [
        {
          "output_type": "stream",
          "text": [
            "RF Accuracy: 85.35 %\n",
            "Classification Report: \n",
            "               precision    recall  f1-score   support\n",
            "\n",
            "    Negative       0.85      0.86      0.86      5035\n",
            "    Positive       0.85      0.85      0.85      4965\n",
            "\n",
            "    accuracy                           0.85     10000\n",
            "   macro avg       0.85      0.85      0.85     10000\n",
            "weighted avg       0.85      0.85      0.85     10000\n",
            "\n",
            "Confusion Matrix: \n",
            " [[4320  715]\n",
            " [ 750 4215]]\n"
          ],
          "name": "stdout"
        }
      ]
    },
    {
      "cell_type": "code",
      "metadata": {
        "colab": {
          "base_uri": "https://localhost:8080/",
          "height": 279
        },
        "id": "7PZ6n05YMWNS",
        "outputId": "f4d37182-5bad-4be4-9f8f-d2a6536564e1"
      },
      "source": [
        "#Plotting Confusion Matrix\n",
        "import seaborn as sn\n",
        "confusion_matrix = pd.crosstab(y_test, rf.predict(X_test), rownames=['Actual'], colnames=['Predicted'])\n",
        "sn.heatmap(confusion_matrix,cmap=\"Blues\", annot=True, fmt='g')\n",
        "plt.show()"
      ],
      "id": "7PZ6n05YMWNS",
      "execution_count": null,
      "outputs": [
        {
          "output_type": "display_data",
          "data": {
            "image/png": "[encoded data removed]",
            "text/plain": [
              "<Figure size 432x288 with 2 Axes>"
            ]
          },
          "metadata": {
            "tags": [],
            "needs_background": "light"
          }
        }
      ]
    },
    {
      "cell_type": "code",
      "metadata": {
        "colab": {
          "base_uri": "https://localhost:8080/"
        },
        "id": "cExbyYnOMdcl",
        "outputId": "a25b387e-a346-4548-d276-fe32c77e70f8"
      },
      "source": [
        "from sklearn.svm import LinearSVC\n",
        "\n",
        "LSVC = LinearSVC(max_iter = 10000)\n",
        "LSVC.fit(X_train, y_train)"
      ],
      "id": "cExbyYnOMdcl",
      "execution_count": null,
      "outputs": [
        {
          "output_type": "stream",
          "text": [
            "/usr/local/lib/python3.7/dist-packages/sklearn/svm/_base.py:947: ConvergenceWarning: Liblinear failed to converge, increase the number of iterations.\n",
            "  \"the number of iterations.\", ConvergenceWarning)\n"
          ],
          "name": "stderr"
        },
        {
          "output_type": "execute_result",
          "data": {
            "text/plain": [
              "LinearSVC(C=1.0, class_weight=None, dual=True, fit_intercept=True,\n",
              "          intercept_scaling=1, loss='squared_hinge', max_iter=10000,\n",
              "          multi_class='ovr', penalty='l2', random_state=None, tol=0.0001,\n",
              "          verbose=0)"
            ]
          },
          "metadata": {
            "tags": []
          },
          "execution_count": 16
        }
      ]
    },
    {
      "cell_type": "code",
      "metadata": {
        "colab": {
          "base_uri": "https://localhost:8080/"
        },
        "id": "jSooKS15Rscs",
        "outputId": "364732c6-79dd-4a73-8380-3417fc2f8bc8"
      },
      "source": [
        "accuracy_score_svc = accuracy_score(LSVC.predict(X_test), y_test)\n",
        "print(\"Linear SVC accuracy = \" + str('{:04.2f}'.format(accuracy_score_svc*100))+\" %\")\n",
        "print(\"Classification Report: \\n\", classification_report(y_test, LSVC.predict(X_test),target_names=['Negative','Positive']))"
      ],
      "id": "jSooKS15Rscs",
      "execution_count": null,
      "outputs": [
        {
          "output_type": "stream",
          "text": [
            "Linear SVC accuracy = 86.08 %\n",
            "Classification Report: \n",
            "               precision    recall  f1-score   support\n",
            "\n",
            "    Negative       0.87      0.86      0.86      5035\n",
            "    Positive       0.86      0.87      0.86      4965\n",
            "\n",
            "    accuracy                           0.86     10000\n",
            "   macro avg       0.86      0.86      0.86     10000\n",
            "weighted avg       0.86      0.86      0.86     10000\n",
            "\n"
          ],
          "name": "stdout"
        }
      ]
    },
    {
      "cell_type": "code",
      "metadata": {
        "colab": {
          "base_uri": "https://localhost:8080/",
          "height": 279
        },
        "id": "4mWWnuRw6EXT",
        "outputId": "f5dc79a4-2a3d-4efe-c214-961e5da86ab5"
      },
      "source": [
        "#Plotting Confusion Matrix\n",
        "import seaborn as sn\n",
        "confusion_matrix = pd.crosstab(y_test, LSVC.predict(X_test), rownames=['Actual'], colnames=['Predicted'])\n",
        "sn.heatmap(confusion_matrix,cmap=\"Blues\", annot=True, fmt='g')\n",
        "plt.show()"
      ],
      "id": "4mWWnuRw6EXT",
      "execution_count": null,
      "outputs": [
        {
          "output_type": "display_data",
          "data": {
            "image/png": "[encoded data removed]",
            "text/plain": [
              "<Figure size 432x288 with 2 Axes>"
            ]
          },
          "metadata": {
            "tags": [],
            "needs_background": "light"
          }
        }
      ]
    },
    {
      "cell_type": "code",
      "metadata": {
        "id": "RPA57SoRQoDA"
      },
      "source": [
        "# from sklearn.neighbors import KNeighborsClassifier\n",
        "# knn = KNeighborsClassifier(n_neighbors = 5, metric = 'minkowski', p = 2)\n",
        "# knn.fit(X_train, y_train)"
      ],
      "id": "RPA57SoRQoDA",
      "execution_count": null,
      "outputs": []
    },
    {
      "cell_type": "code",
      "metadata": {
        "id": "89EpBz8URPQ9"
      },
      "source": [
        "# accuracy_score_knn = accuracy_score(rf.predict(X_test), y_test)\n",
        "# print(\"KNN Accuracy: \"+str('{:04.2f}'.format(accuracy_score_knn*100))+\" %\")\n",
        "\n",
        "# from sklearn.metrics import classification_report, confusion_matrix\n",
        "\n",
        "# print(\"Classification Report: \\n\", classification_report(y_test, knn.predict(X_test),target_names=['Negative','Positive']))\n",
        "# print(\"Confusion Matrix: \\n\", confusion_matrix(y_test, knn.predict(X_test)))"
      ],
      "id": "89EpBz8URPQ9",
      "execution_count": null,
      "outputs": []
    },
    {
      "cell_type": "code",
      "metadata": {
        "id": "social-upset",
        "colab": {
          "base_uri": "https://localhost:8080/"
        },
        "outputId": "0126a5d9-ccd7-47e9-ec2f-37a413f3a09b"
      },
      "source": [
        "# Testing for Custom Input\n",
        "\n",
        "sample = \"“Avengers: Endgame” is the culmination of a decade of blockbuster filmmaking, the result of years of work from thousands of people. It is designed to be the most blockbuster of all the blockbusters, a movie with a dozen subplots colliding, and familiar faces from over 20 other movies. It’s really like nothing that Hollywood has produced before, existing not just to acknowledge or exploit the fans of this series, but to reward their love, patience, and undying adoration. The blunt thing you probably want to know most: It’s hard to see serious MCU fans walking away from this disappointed. It checks all the boxes, even ticking off a few ones that fans won’t expect to be on the list. It’s a satisfying end to a chapter of blockbuster history that will be hard to top for pure spectacle. In terms of sheer entertainment value, it’s on the higher end of the MCU, a film that elevates its most iconic heroes to the legendary status they deserve and provides a few legitimate thrills along the way.\"\n",
        "review = re.sub('[^a-zA-Z]', ' ', sample)\n",
        "review = review.lower()\n",
        "review = review.split()\n",
        "ps = PorterStemmer()\n",
        "all_stopwords = stopwords.words('english')\n",
        "all_stopwords.remove('not')\n",
        "review = [ps.stem(word) for word in review if not word in set(all_stopwords)]\n",
        "review = ' '.join(review)\n",
        "print(review)\n"
      ],
      "id": "social-upset",
      "execution_count": null,
      "outputs": [
        {
          "output_type": "stream",
          "text": [
            "aveng endgam culmin decad blockbust filmmak result year work thousand peopl design blockbust blockbust movi dozen subplot collid familiar face movi realli like noth hollywood produc exist not acknowledg exploit fan seri reward love patienc undi ador blunt thing probabl want know hard see seriou mcu fan walk away disappoint check box even tick one fan expect list satisfi end chapter blockbust histori hard top pure spectacl term sheer entertain valu higher end mcu film elev icon hero legendari statu deserv provid legitim thrill along way\n"
          ],
          "name": "stdout"
        }
      ]
    },
    {
      "cell_type": "code",
      "metadata": {
        "id": "bulgarian-tolerance",
        "colab": {
          "base_uri": "https://localhost:8080/"
        },
        "outputId": "829f851d-6c93-4093-9c2b-41c5dad7d8b3"
      },
      "source": [
        "X_custom = cv.transform([review]).toarray()\n",
        "res = nb_classifier.predict(X_custom)\n",
        "print(res)"
      ],
      "id": "bulgarian-tolerance",
      "execution_count": null,
      "outputs": [
        {
          "output_type": "stream",
          "text": [
            "['positive']\n"
          ],
          "name": "stdout"
        }
      ]
    },
    {
      "cell_type": "code",
      "metadata": {
        "colab": {
          "base_uri": "https://localhost:8080/"
        },
        "id": "lfYSclFCFVKE",
        "outputId": "7f11cc5f-d1df-4ed1-95a1-24d8709164ea"
      },
      "source": [
        "neg_sample = \"Boasting some of the most creative action scenes and finely-calibrated comedy in the Marvel universe so far, Ant-Man and The Wasp doesn’t reinvent the wheel, but it certainly knows how to make the ride even more fun. After the doom and gloom of Infinity War, this savvy sequel is a welcome change of pace, and a reminder that the MCU is malleable enough to tackle just about any genre and tone without losing its sense of identity. Needless to say, we’re eagerly ant-icipating Ant-Man and the Wasp’s next outing.\"\n",
        "review = re.sub('[^a-zA-Z]', ' ', neg_sample)\n",
        "review = review.lower()\n",
        "review = review.split()\n",
        "ps = PorterStemmer()\n",
        "all_stopwords = stopwords.words('english')\n",
        "all_stopwords.remove('not')\n",
        "review = [ps.stem(word) for word in review if not word in set(all_stopwords)]\n",
        "review = ' '.join(review)\n",
        "print(review)\n"
      ],
      "id": "lfYSclFCFVKE",
      "execution_count": null,
      "outputs": [
        {
          "output_type": "stream",
          "text": [
            "boast creativ action scene fine calibr comedi marvel univers far ant man wasp reinvent wheel certainli know make ride even fun doom gloom infin war savvi sequel welcom chang pace remind mcu malleabl enough tackl genr tone without lose sens ident needless say eagerli ant icip ant man wasp next outing\n"
          ],
          "name": "stdout"
        }
      ]
    },
    {
      "cell_type": "code",
      "metadata": {
        "colab": {
          "base_uri": "https://localhost:8080/"
        },
        "id": "mhyKp9EhFi7q",
        "outputId": "d79ea714-4d52-48c0-88ce-56bfafc6ac3d"
      },
      "source": [
        "X_custom = cv.transform([review]).toarray()\n",
        "res = nb_classifier.predict(X_custom)\n",
        "print(res)"
      ],
      "id": "mhyKp9EhFi7q",
      "execution_count": null,
      "outputs": [
        {
          "output_type": "stream",
          "text": [
            "['negative']\n"
          ],
          "name": "stdout"
        }
      ]
    },
    {
      "cell_type": "code",
      "metadata": {
        "colab": {
          "base_uri": "https://localhost:8080/"
        },
        "id": "ouUut1U7ngnv",
        "outputId": "cb9cd311-8cbc-40cd-fb5e-8c02c53d2cc8"
      },
      "source": [
        "from sklearn.naive_bayes import MultinomialNB\n",
        "mnb = MultinomialNB()\n",
        "mnb.fit(X_train, y_train)"
      ],
      "id": "ouUut1U7ngnv",
      "execution_count": null,
      "outputs": [
        {
          "output_type": "execute_result",
          "data": {
            "text/plain": [
              "MultinomialNB(alpha=1.0, class_prior=None, fit_prior=True)"
            ]
          },
          "metadata": {
            "tags": []
          },
          "execution_count": 29
        }
      ]
    },
    {
      "cell_type": "code",
      "metadata": {
        "colab": {
          "base_uri": "https://localhost:8080/"
        },
        "id": "HUsXDU80oA0Z",
        "outputId": "8c26bdc6-8478-43c8-828d-c6f9a8db4a47"
      },
      "source": [
        "# Evaluating the model\n",
        "from sklearn.metrics import accuracy_score\n",
        "\n",
        "accuracy_score_mnb = accuracy_score(mnb.predict(X_test), y_test)\n",
        "print(\"MNB Accuracy: \"+str('{:04.2f}'.format(accuracy_score_mnb*100))+\" %\")\n",
        "\n",
        "from sklearn.metrics import classification_report, confusion_matrix\n",
        "\n",
        "print(\"Classification Report: \\n\", classification_report(y_test, mnb.predict(X_test),target_names=['Negative','Positive']))\n",
        "print(\"Confusion Matrix: \\n\", confusion_matrix(y_test, mnb.predict(X_test)))"
      ],
      "id": "HUsXDU80oA0Z",
      "execution_count": null,
      "outputs": [
        {
          "output_type": "stream",
          "text": [
            "MNB Accuracy: 84.04 %\n",
            "Classification Report: \n",
            "               precision    recall  f1-score   support\n",
            "\n",
            "    Negative       0.84      0.85      0.84      5035\n",
            "    Positive       0.84      0.83      0.84      4965\n",
            "\n",
            "    accuracy                           0.84     10000\n",
            "   macro avg       0.84      0.84      0.84     10000\n",
            "weighted avg       0.84      0.84      0.84     10000\n",
            "\n",
            "Confusion Matrix: \n",
            " [[4267  768]\n",
            " [ 828 4137]]\n"
          ],
          "name": "stdout"
        }
      ]
    },
    {
      "cell_type": "code",
      "metadata": {
        "colab": {
          "base_uri": "https://localhost:8080/",
          "height": 279
        },
        "id": "9Mvk58cVo1kL",
        "outputId": "e26112ff-73de-40b8-b632-ed7bbf2e5556"
      },
      "source": [
        "#Plotting Confusion Matrix\n",
        "import seaborn as sn\n",
        "confusion_matrix = pd.crosstab(y_test, mnb.predict(X_test), rownames=['Actual'], colnames=['Predicted'])\n",
        "sn.heatmap(confusion_matrix,cmap=\"Blues\", annot=True, fmt='g')\n",
        "plt.show()"
      ],
      "id": "9Mvk58cVo1kL",
      "execution_count": null,
      "outputs": [
        {
          "output_type": "display_data",
          "data": {
            "image/png": "[encoded data removed]",
            "text/plain": [
              "<Figure size 432x288 with 2 Axes>"
            ]
          },
          "metadata": {
            "tags": [],
            "needs_background": "light"
          }
        }
      ]
    },
    {
      "cell_type": "code",
      "metadata": {
        "colab": {
          "base_uri": "https://localhost:8080/"
        },
        "id": "YOu0BKwJurSF",
        "outputId": "3c1e30a0-faa4-45b1-cb53-0b50773e7dee"
      },
      "source": [
        "from sklearn.naive_bayes import BernoulliNB\n",
        "bnb = BernoulliNB()\n",
        "bnb.fit(X_train, y_train)"
      ],
      "id": "YOu0BKwJurSF",
      "execution_count": null,
      "outputs": [
        {
          "output_type": "execute_result",
          "data": {
            "text/plain": [
              "BernoulliNB(alpha=1.0, binarize=0.0, class_prior=None, fit_prior=True)"
            ]
          },
          "metadata": {
            "tags": []
          },
          "execution_count": 32
        }
      ]
    },
    {
      "cell_type": "code",
      "metadata": {
        "colab": {
          "base_uri": "https://localhost:8080/"
        },
        "id": "acJWz5FRxNWb",
        "outputId": "e647f283-c286-4105-edcf-130056b99c5f"
      },
      "source": [
        "# Evaluating the model\n",
        "from sklearn.metrics import accuracy_score\n",
        "\n",
        "accuracy_score_bnb = accuracy_score(bnb.predict(X_test), y_test)\n",
        "print(\"BNB Accuracy: \"+str('{:04.2f}'.format(accuracy_score_bnb*100))+\" %\")\n",
        "\n",
        "from sklearn.metrics import classification_report, confusion_matrix\n",
        "\n",
        "print(\"Classification Report: \\n\", classification_report(y_test, bnb.predict(X_test),target_names=['Negative','Positive']))\n",
        "print(\"Confusion Matrix: \\n\", confusion_matrix(y_test, bnb.predict(X_test)))"
      ],
      "id": "acJWz5FRxNWb",
      "execution_count": null,
      "outputs": [
        {
          "output_type": "stream",
          "text": [
            "BNB Accuracy: 84.63 %\n",
            "Classification Report: \n",
            "               precision    recall  f1-score   support\n",
            "\n",
            "    Negative       0.84      0.85      0.85      5035\n",
            "    Positive       0.85      0.84      0.84      4965\n",
            "\n",
            "    accuracy                           0.85     10000\n",
            "   macro avg       0.85      0.85      0.85     10000\n",
            "weighted avg       0.85      0.85      0.85     10000\n",
            "\n",
            "Confusion Matrix: \n",
            " [[4295  740]\n",
            " [ 797 4168]]\n"
          ],
          "name": "stdout"
        }
      ]
    },
    {
      "cell_type": "code",
      "metadata": {
        "id": "5JXUuAB7xaBN",
        "colab": {
          "base_uri": "https://localhost:8080/",
          "height": 279
        },
        "outputId": "906d9701-1f08-44f3-b558-002619d31054"
      },
      "source": [
        "#Plotting Confusion Matrix\n",
        "import seaborn as sn\n",
        "confusion_matrix = pd.crosstab(y_test, bnb.predict(X_test), rownames=['Actual'], colnames=['Predicted'])\n",
        "sn.heatmap(confusion_matrix,cmap=\"Blues\", annot=True, fmt='g')\n",
        "plt.show()"
      ],
      "id": "5JXUuAB7xaBN",
      "execution_count": null,
      "outputs": [
        {
          "output_type": "display_data",
          "data": {
            "image/png": "[encoded data removed]",
            "text/plain": [
              "<Figure size 432x288 with 2 Axes>"
            ]
          },
          "metadata": {
            "tags": [],
            "needs_background": "light"
          }
        }
      ]
    },
    {
      "cell_type": "code",
      "metadata": {
        "colab": {
          "base_uri": "https://localhost:8080/"
        },
        "id": "kNS7uEt3voos",
        "outputId": "d31a0afe-09ad-402a-ff1b-cd245c8f61c0"
      },
      "source": [
        "sarc_review1 = \"'Valentine's Day' is being marketed as a Date Movie. I think it's more of a First-Date Movie. If your date likes it, do not date that person again. And if you like it, there may not be a second date.\"\n",
        "\n",
        "review = re.sub('[^a-zA-Z]', ' ', sarc_review1)\n",
        "review = review.lower()\n",
        "review = review.split()\n",
        "ps = PorterStemmer()\n",
        "all_stopwords = stopwords.words('english')\n",
        "all_stopwords.remove('not')\n",
        "review = [ps.stem(word) for word in review if not word in set(all_stopwords)]\n",
        "review = ' '.join(review)\n",
        "print(review)"
      ],
      "id": "kNS7uEt3voos",
      "execution_count": null,
      "outputs": [
        {
          "output_type": "stream",
          "text": [
            "valentin day market date movi think first date movi date like not date person like may not second date\n"
          ],
          "name": "stdout"
        }
      ]
    },
    {
      "cell_type": "code",
      "metadata": {
        "colab": {
          "base_uri": "https://localhost:8080/"
        },
        "id": "sNQ-5x4_wJHG",
        "outputId": "b4e4d54d-18f6-4fc3-e9f9-e2ae7d948eb1"
      },
      "source": [
        "X_custom = cv.transform([review]).toarray()\n",
        "res = rf.predict(X_custom)\n",
        "print(res)"
      ],
      "id": "sNQ-5x4_wJHG",
      "execution_count": null,
      "outputs": [
        {
          "output_type": "stream",
          "text": [
            "['positive']\n"
          ],
          "name": "stdout"
        }
      ]
    }
  ]
}